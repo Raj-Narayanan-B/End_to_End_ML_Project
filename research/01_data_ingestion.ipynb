{
 "cells": [
  {
   "cell_type": "code",
   "execution_count": 1,
   "metadata": {
    "tags": []
   },
   "outputs": [],
   "source": [
    "import os"
   ]
  },
  {
   "cell_type": "code",
   "execution_count": 2,
   "metadata": {
    "tags": []
   },
   "outputs": [
    {
     "data": {
      "text/plain": [
       "'f:\\\\iNeuron\\\\End2End\\\\Bappy E-2-E\\\\End_to_End_ML_Project\\\\research'"
      ]
     },
     "execution_count": 2,
     "metadata": {},
     "output_type": "execute_result"
    }
   ],
   "source": [
    "pwd"
   ]
  },
  {
   "cell_type": "code",
   "execution_count": 3,
   "metadata": {
    "tags": []
   },
   "outputs": [],
   "source": [
    "os.chdir(\"F:\\iNeuron\\End2End\\Bappy E-2-E\\End_to_End_ML_Project\")"
   ]
  },
  {
   "cell_type": "code",
   "execution_count": 4,
   "metadata": {
    "tags": []
   },
   "outputs": [
    {
     "data": {
      "text/plain": [
       "'F:\\\\iNeuron\\\\End2End\\\\Bappy E-2-E\\\\End_to_End_ML_Project'"
      ]
     },
     "execution_count": 4,
     "metadata": {},
     "output_type": "execute_result"
    }
   ],
   "source": [
    "pwd"
   ]
  },
  {
   "cell_type": "code",
   "execution_count": 5,
   "metadata": {
    "tags": []
   },
   "outputs": [],
   "source": [
    "from dataclasses import dataclass\n",
    "from pathlib import Path\n",
    "\n",
    "from numpy import source\n",
    "\n",
    "@dataclass\n",
    "class DataIngestionConfig:\n",
    "    root_dir: Path\n",
    "    source_url: str\n",
    "    local_data_file: Path\n",
    "    data_unzip: Path"
   ]
  },
  {
   "cell_type": "code",
   "execution_count": 6,
   "metadata": {
    "tags": []
   },
   "outputs": [
    {
     "data": {
      "text/plain": [
       "WindowsPath('config/config.yaml')"
      ]
     },
     "execution_count": 6,
     "metadata": {},
     "output_type": "execute_result"
    }
   ],
   "source": [
    "Path(\"config/config.yaml\")"
   ]
  },
  {
   "cell_type": "code",
   "execution_count": 7,
   "metadata": {
    "tags": []
   },
   "outputs": [],
   "source": [
    "from src.mlproject.constants import *"
   ]
  },
  {
   "cell_type": "code",
   "execution_count": 8,
   "metadata": {
    "tags": []
   },
   "outputs": [
    {
     "data": {
      "text/plain": [
       "WindowsPath('config/config.yaml')"
      ]
     },
     "execution_count": 8,
     "metadata": {},
     "output_type": "execute_result"
    }
   ],
   "source": [
    "CONFIG_PATH"
   ]
  },
  {
   "cell_type": "code",
   "execution_count": 9,
   "metadata": {
    "tags": []
   },
   "outputs": [],
   "source": [
    "from src.mlproject.utils.common import load_yaml,create_directories"
   ]
  },
  {
   "cell_type": "code",
   "execution_count": 10,
   "metadata": {
    "tags": []
   },
   "outputs": [
    {
     "name": "stdout",
     "output_type": "stream",
     "text": [
      "[2023-10-31 15:46:15,595: INFO: common: The YAML file: config\\config.yaml is loaded]\n"
     ]
    }
   ],
   "source": [
    "config = load_yaml(CONFIG_PATH)"
   ]
  },
  {
   "cell_type": "code",
   "execution_count": 11,
   "metadata": {
    "tags": []
   },
   "outputs": [],
   "source": [
    "url = config.data_ingestion.source_url"
   ]
  },
  {
   "cell_type": "code",
   "execution_count": 12,
   "metadata": {
    "tags": []
   },
   "outputs": [
    {
     "data": {
      "text/plain": [
       "'https://drive.google.com/uc?id=1K-V250xDFAOsEDN0QLKtYblrAEHE6Ski'"
      ]
     },
     "execution_count": 12,
     "metadata": {},
     "output_type": "execute_result"
    }
   ],
   "source": [
    "url"
   ]
  },
  {
   "cell_type": "code",
   "execution_count": 13,
   "metadata": {
    "tags": []
   },
   "outputs": [],
   "source": [
    "from json import load\n",
    "from pathlib import Path\n",
    "\n",
    "\n",
    "class ConfigurationManager:\n",
    "    def __init__(self,\n",
    "                 config_path = CONFIG_PATH,\n",
    "                 params_path = PARAMS_PATH,\n",
    "                 schema_path = SCHEMA_PATH):\n",
    "        \n",
    "        self.config = load_yaml(config_path)\n",
    "        self.params = load_yaml(params_path)\n",
    "        self.schema = load_yaml(schema_path)\n",
    "\n",
    "        create_directories(self.config.artifacts_root)\n",
    "\n",
    "    def get_data_ingestion_config(self) -> DataIngestionConfig:\n",
    "        config = self.config.data_ingestion\n",
    "\n",
    "        create_directories(config.root_dir)\n",
    "\n",
    "        data_ingestion = DataIngestionConfig(root_dir = config.root_dir,\n",
    "                                             source_url = config.source_url,\n",
    "                                             local_data_file = config.local_data_file,\n",
    "                                             data_unzip = config.unzip_dir)\n",
    "\n",
    "        return (data_ingestion)        "
   ]
  },
  {
   "cell_type": "code",
   "execution_count": 14,
   "metadata": {
    "tags": []
   },
   "outputs": [
    {
     "name": "stdout",
     "output_type": "stream",
     "text": [
      "[2023-10-31 15:46:16,936: INFO: common: The YAML file: config\\config.yaml is loaded]\n",
      "[2023-10-31 15:46:16,946: INFO: common: The YAML file: params.yaml is loaded]\n",
      "[2023-10-31 15:46:16,950: INFO: common: The YAML file: schema.yaml is loaded]\n",
      "[2023-10-31 15:46:16,952: INFO: common: Directory:artifacts is created]\n",
      "[2023-10-31 15:46:16,953: INFO: common: Directory:artifacts/data_ingestion is created]\n"
     ]
    },
    {
     "data": {
      "text/plain": [
       "DataIngestionConfig(root_dir='artifacts/data_ingestion', source_url='https://drive.google.com/uc?id=1K-V250xDFAOsEDN0QLKtYblrAEHE6Ski', local_data_file='artifacts/data_ingestion/data_main.zip', data_unzip='artifacts/data_ingestion')"
      ]
     },
     "execution_count": 14,
     "metadata": {},
     "output_type": "execute_result"
    }
   ],
   "source": [
    "ConfigurationManager().get_data_ingestion_config()"
   ]
  },
  {
   "cell_type": "code",
   "execution_count": 15,
   "metadata": {
    "tags": []
   },
   "outputs": [],
   "source": [
    "from urllib import request\n",
    "from zipfile import ZipFile\n",
    "from src.mlproject import logger\n",
    "from src.mlproject.config import *\n",
    "import gdown\n",
    "\n",
    "class DataIngestion:\n",
    "    def __init__(self,config: DataIngestionConfig):\n",
    "        self.config = config\n",
    "\n",
    "    def download_file(self):\n",
    "        if not os.path.exists(self.config.local_data_file):\n",
    "            gdown.download(self.config.source_url, self.config.local_data_file, quiet=False)\n",
    "            # logger.info(f\"{filename} downloaded with follow info: {headers}\")\n",
    "        else:\n",
    "            logger.info(f\"File already exists!\")\n",
    "\n",
    "\n",
    "    def extract_zipfile(self):\n",
    "        with ZipFile(self.config.local_data_file, 'r') as zip_file:\n",
    "            zip_file.extractall(self.config.data_unzip)\n",
    "            "
   ]
  },
  {
   "cell_type": "code",
   "execution_count": 16,
   "metadata": {
    "tags": []
   },
   "outputs": [
    {
     "name": "stdout",
     "output_type": "stream",
     "text": [
      "[2023-10-31 15:46:18,106: INFO: common: The YAML file: config\\config.yaml is loaded]\n",
      "[2023-10-31 15:46:18,110: INFO: common: The YAML file: params.yaml is loaded]\n",
      "[2023-10-31 15:46:18,113: INFO: common: The YAML file: schema.yaml is loaded]\n",
      "[2023-10-31 15:46:18,114: INFO: common: Directory:artifacts is created]\n",
      "[2023-10-31 15:46:18,116: INFO: common: Directory:artifacts/data_ingestion is created]\n"
     ]
    },
    {
     "name": "stderr",
     "output_type": "stream",
     "text": [
      "Downloading...\n",
      "From: https://drive.google.com/uc?id=1K-V250xDFAOsEDN0QLKtYblrAEHE6Ski\n",
      "To: F:\\iNeuron\\End2End\\Bappy E-2-E\\End_to_End_ML_Project\\artifacts\\data_ingestion\\data_main.zip\n",
      "100%|██████████| 26.1k/26.1k [00:00<00:00, 2.70MB/s]\n"
     ]
    }
   ],
   "source": [
    "try:\n",
    "    config = ConfigurationManager()\n",
    "    data_ingestion_config = config.get_data_ingestion_config()\n",
    "    data_ingestion = DataIngestion(data_ingestion_config)\n",
    "    data_ingestion.download_file()\n",
    "    data_ingestion.extract_zipfile()\n",
    "except Exception as f:\n",
    "    raise f"
   ]
  },
  {
   "cell_type": "code",
   "execution_count": null,
   "metadata": {},
   "outputs": [],
   "source": []
  },
  {
   "cell_type": "code",
   "execution_count": null,
   "metadata": {},
   "outputs": [],
   "source": []
  }
 ],
 "metadata": {
  "kernelspec": {
   "display_name": "Python 3 (ipykernel)",
   "language": "python",
   "name": "python3"
  },
  "language_info": {
   "codemirror_mode": {
    "name": "ipython",
    "version": 3
   },
   "file_extension": ".py",
   "mimetype": "text/x-python",
   "name": "python",
   "nbconvert_exporter": "python",
   "pygments_lexer": "ipython3",
   "version": "3.11.5"
  }
 },
 "nbformat": 4,
 "nbformat_minor": 4
}
