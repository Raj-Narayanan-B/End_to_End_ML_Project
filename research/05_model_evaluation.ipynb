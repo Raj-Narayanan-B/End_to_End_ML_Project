{
 "cells": [
  {
   "cell_type": "code",
   "execution_count": 1,
   "metadata": {},
   "outputs": [
    {
     "data": {
      "text/plain": [
       "'f:\\\\iNeuron\\\\End2End\\\\Bappy E-2-E\\\\End_to_End_ML_Project\\\\research'"
      ]
     },
     "execution_count": 1,
     "metadata": {},
     "output_type": "execute_result"
    }
   ],
   "source": [
    "import os\n",
    "%pwd"
   ]
  },
  {
   "cell_type": "code",
   "execution_count": 2,
   "metadata": {},
   "outputs": [],
   "source": [
    "os.chdir('f:\\\\iNeuron\\\\End2End\\\\Bappy E-2-E\\\\End_to_End_ML_Project')"
   ]
  },
  {
   "cell_type": "code",
   "execution_count": 3,
   "metadata": {},
   "outputs": [
    {
     "data": {
      "text/plain": [
       "'f:\\\\iNeuron\\\\End2End\\\\Bappy E-2-E\\\\End_to_End_ML_Project'"
      ]
     },
     "execution_count": 3,
     "metadata": {},
     "output_type": "execute_result"
    }
   ],
   "source": [
    "%pwd"
   ]
  },
  {
   "cell_type": "code",
   "execution_count": 4,
   "metadata": {},
   "outputs": [],
   "source": [
    "os.environ['MLFLOW_TRACKING_URI'] = 'https://dagshub.com/Raj-Narayanan-B/End_to_End_ML_Project.mlflow'\n",
    "os.environ['MLFLOW_TRACKING_USERNAME'] = 'Raj-Narayanan-B'\n",
    "os.environ['MLFLOW_TRACKING_PASSWORD'] = 'c1b8b6dbed37013669f11f9a86691046a71debcc'"
   ]
  },
  {
   "cell_type": "code",
   "execution_count": 5,
   "metadata": {},
   "outputs": [],
   "source": [
    "from dataclasses import dataclass #type: ignore\n",
    "from pathlib import Path #type: ignore\n",
    "\n",
    "@dataclass(frozen=True)\n",
    "class ModelEvaluation:\n",
    "    root_dir: Path\n",
    "    test_path: Path\n",
    "    model_name: Path\n",
    "    metrics: Path\n",
    "    parameters: dict\n",
    "    target: str\n",
    "    mlflow_uri: str\n"
   ]
  },
  {
   "cell_type": "code",
   "execution_count": 6,
   "metadata": {},
   "outputs": [],
   "source": [
    "from src.mlproject.constants import *\n",
    "from src.mlproject.utils.common import load_yaml,create_directories\n",
    "\n",
    "class ConfigurationManager:\n",
    "    def __init__(self,\n",
    "                 config_path = CONFIG_PATH,\n",
    "                 params_path = PARAMS_PATH,\n",
    "                 schema_path = SCHEMA_PATH) -> None:\n",
    "        self.config = load_yaml(config_path)\n",
    "        self.params = load_yaml(params_path)\n",
    "        self.schema = load_yaml(schema_path)\n",
    "\n",
    "    def get_model_evaluation_config(self):\n",
    "        config = self.config.model_evaluation\n",
    "        schema = self.schema.TARGET_COLUMN\n",
    "        params = self.params.Elastic_net\n",
    "\n",
    "        create_directories(config.root_dir)\n",
    "\n",
    "        model_evaluation_config = ModelEvaluation(\n",
    "            root_dir = config.root_dir,\n",
    "            test_path = config.test_path,\n",
    "            model_name= config.model_name,\n",
    "            metrics = config.metrics,\n",
    "            parameters = params,\n",
    "            target = schema.name,\n",
    "            mlflow_uri = 'https://dagshub.com/Raj-Narayanan-B/End_to_End_ML_Project.mlflow'\n",
    "        )\n",
    "\n",
    "        return model_evaluation_config"
   ]
  },
  {
   "cell_type": "code",
   "execution_count": 7,
   "metadata": {},
   "outputs": [],
   "source": [
    "from sklearn.metrics import mean_squared_error,r2_score\n",
    "import numpy as np\n",
    "import pandas as pd\n",
    "from pathlib import Path #type: ignore\n",
    "\n",
    "import mlflow\n",
    "import mlflow.sklearn\n",
    "from urllib.parse import urlparse #type: ignore\n",
    "\n",
    "from src.mlproject.utils.common import load_binary,save_json\n",
    "\n",
    "class model_evaluation:\n",
    "    def __init__(self, config: ModelEvaluation) -> None:\n",
    "        self.config = config\n",
    "\n",
    "    def eval_metrics(self, y_true, y_pred):\n",
    "        rmse = np.sqrt(mean_squared_error(y_true=y_true, y_pred=y_pred))\n",
    "        r2score = r2_score(y_true=y_true, y_pred=y_pred)\n",
    "        return ({'rmse': rmse,\n",
    "                 \"r2_score\": r2score})\n",
    "\n",
    "    def ml_flow_logging(self):\n",
    "        test_data = pd.read_csv(self.config.test_path)\n",
    "        model = load_binary(Path(self.config.model_name))\n",
    "\n",
    "        xtest = test_data.drop(columns=self.config.target)\n",
    "        ytest = test_data[self.config.target]\n",
    "\n",
    "        mlflow.set_registry_uri(self.config.mlflow_uri)\n",
    "        tracking_url_type = urlparse(mlflow.get_tracking_uri()).scheme\n",
    "\n",
    "        with mlflow.start_run():\n",
    "            ypred = model.predict(xtest)\n",
    "\n",
    "            scores = self.eval_metrics(y_true = ytest, y_pred = ypred)\n",
    "\n",
    "            save_json(data = scores, path = Path(self.config.metrics))\n",
    "\n",
    "            mlflow.log_params(self.config.parameters)\n",
    "\n",
    "            mlflow.log_metric('rmse',scores['rmse'])\n",
    "            mlflow.log_metric('r2_score',scores['r2_score'])\n",
    "\n",
    "            if tracking_url_type != 'file':\n",
    "                mlflow.sklearn.log_model(model,'model',registered_model_name='ElasticNet')\n",
    "            else:\n",
    "                mlflow.sklearn.log_model(model,'model')\n",
    "\n"
   ]
  },
  {
   "cell_type": "code",
   "execution_count": 8,
   "metadata": {},
   "outputs": [
    {
     "name": "stdout",
     "output_type": "stream",
     "text": [
      "[2023-11-03 09:40:49,347: INFO: common: The YAML file: config\\config.yaml is loaded]\n",
      "[2023-11-03 09:40:49,350: INFO: common: The YAML file: params.yaml is loaded]\n",
      "[2023-11-03 09:40:49,353: INFO: common: The YAML file: schema.yaml is loaded]\n",
      "[2023-11-03 09:40:49,356: INFO: common: Directory:artifacts/model_evaluation is created]\n",
      "[2023-11-03 09:40:49,506: INFO: common: Object loaded from artifacts\\model_trainer\\model.joblib]\n"
     ]
    },
    {
     "name": "stderr",
     "output_type": "stream",
     "text": [
      "f:\\iNeuron\\End2End\\Bappy E-2-E\\End_to_End_ML_Project\\mlproject_1\\Lib\\site-packages\\sklearn\\base.py:348: InconsistentVersionWarning: Trying to unpickle estimator ElasticNet from version 1.3.0 when using version 1.3.2. This might lead to breaking code or invalid results. Use at your own risk. For more info please refer to:\n",
      "https://scikit-learn.org/stable/model_persistence.html#security-maintainability-limitations\n",
      "  warnings.warn(\n"
     ]
    },
    {
     "name": "stdout",
     "output_type": "stream",
     "text": [
      "[2023-11-03 09:41:02,758: INFO: common: JSON file is saved at]\n"
     ]
    },
    {
     "name": "stderr",
     "output_type": "stream",
     "text": [
      "Successfully registered model 'ElasticNet'.\n",
      "2023/11/03 09:41:22 INFO mlflow.store.model_registry.abstract_store: Waiting up to 300 seconds for model version to finish creation. Model name: ElasticNet, version 1\n",
      "Created version '1' of model 'ElasticNet'.\n"
     ]
    }
   ],
   "source": [
    "try:\n",
    "    config = ConfigurationManager()\n",
    "    model_eval_config = config.get_model_evaluation_config()\n",
    "    model_eval_obj = model_evaluation(config=model_eval_config)\n",
    "    model_eval_obj.ml_flow_logging()\n",
    "\n",
    "except Exception as e:\n",
    "    raise e"
   ]
  },
  {
   "cell_type": "code",
   "execution_count": null,
   "metadata": {},
   "outputs": [],
   "source": []
  }
 ],
 "metadata": {
  "kernelspec": {
   "display_name": "Python 3",
   "language": "python",
   "name": "python3"
  },
  "language_info": {
   "codemirror_mode": {
    "name": "ipython",
    "version": 3
   },
   "file_extension": ".py",
   "mimetype": "text/x-python",
   "name": "python",
   "nbconvert_exporter": "python",
   "pygments_lexer": "ipython3",
   "version": "3.11.5"
  }
 },
 "nbformat": 4,
 "nbformat_minor": 2
}
