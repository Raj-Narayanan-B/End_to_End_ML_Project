{
 "cells": [
  {
   "cell_type": "code",
   "execution_count": 2,
   "metadata": {},
   "outputs": [
    {
     "data": {
      "text/plain": [
       "'f:\\\\iNeuron\\\\End2End\\\\Bappy E-2-E\\\\End_to_End_ML_Project\\\\research'"
      ]
     },
     "execution_count": 2,
     "metadata": {},
     "output_type": "execute_result"
    }
   ],
   "source": [
    "import os\n",
    "%pwd"
   ]
  },
  {
   "cell_type": "code",
   "execution_count": 3,
   "metadata": {},
   "outputs": [],
   "source": [
    "os.chdir('f:\\\\iNeuron\\\\End2End\\\\Bappy E-2-E\\\\End_to_End_ML_Project')"
   ]
  },
  {
   "cell_type": "code",
   "execution_count": 4,
   "metadata": {},
   "outputs": [
    {
     "data": {
      "text/plain": [
       "'f:\\\\iNeuron\\\\End2End\\\\Bappy E-2-E\\\\End_to_End_ML_Project'"
      ]
     },
     "execution_count": 4,
     "metadata": {},
     "output_type": "execute_result"
    }
   ],
   "source": [
    "%pwd"
   ]
  },
  {
   "cell_type": "code",
   "execution_count": 25,
   "metadata": {},
   "outputs": [],
   "source": [
    "from dataclasses import dataclass #type: ignore\n",
    "from pathlib import Path #type: ignore\n",
    "\n",
    "@dataclass(frozen=True)\n",
    "class ModelTrainerConfig:\n",
    "    root_dir: Path\n",
    "    train: Path\n",
    "    test: Path\n",
    "    model: str\n",
    "    alpha: float\n",
    "    l1_ratio: float\n",
    "    target: str"
   ]
  },
  {
   "cell_type": "code",
   "execution_count": 26,
   "metadata": {},
   "outputs": [],
   "source": [
    "from src.mlproject.constants import *\n",
    "from src.mlproject.utils.common import load_yaml, create_directories\n",
    "\n",
    "class ConfigurationManager:\n",
    "    def __init__(self,\n",
    "                 config_path = CONFIG_PATH,\n",
    "                 params_path = PARAMS_PATH,\n",
    "                 schema_path = SCHEMA_PATH) -> None:\n",
    "        self.config = load_yaml(config_path)\n",
    "        self.params = load_yaml(params_path)\n",
    "        self.schema = load_yaml(schema_path)\n",
    "\n",
    "        create_directories(self.config.model_trainer.root_dir)\n",
    "\n",
    "    def get_model_trainer_config(self):\n",
    "        config = self.config.model_trainer\n",
    "        params = self.params.Elastic_net\n",
    "        schema = self.schema.TARGET_COLUMN\n",
    "        model_trainer_obj = ModelTrainerConfig(\n",
    "                                                root_dir= config.root_dir,\n",
    "                                                train= config.train_path,\n",
    "                                                test = config.test_path,\n",
    "                                                model= config.model_name,\n",
    "                                                alpha = params.alpha,\n",
    "                                                l1_ratio= params.l1_ratio,\n",
    "                                                target = schema.name)\n",
    "        return (model_trainer_obj)"
   ]
  },
  {
   "cell_type": "code",
   "execution_count": 27,
   "metadata": {},
   "outputs": [],
   "source": [
    "import pandas as pd\n",
    "import joblib\n",
    "from sklearn.linear_model import ElasticNet\n",
    "\n",
    "class model_trainer:\n",
    "    def __init__(self, config: ModelTrainerConfig) -> None:\n",
    "        self.config = config\n",
    "\n",
    "    def train(self):\n",
    "        train = pd.read_csv(self.config.train)\n",
    "        test = pd.read_csv(self.config.test)\n",
    "\n",
    "        xtrain = train.drop(columns = self.config.target)\n",
    "        xtest = test.drop(columns = self.config.target)\n",
    "\n",
    "        ytrain = train[self.config.target]\n",
    "        ytest = test[self.config.target]\n",
    "\n",
    "        elastic_net = ElasticNet(alpha= self.config.alpha,\n",
    "                                 l1_ratio= self.config.l1_ratio,\n",
    "                                 random_state= 8)\n",
    "        \n",
    "        elastic_net.fit(xtrain,ytrain)\n",
    "\n",
    "        joblib.dump(elastic_net,self.config.model)"
   ]
  },
  {
   "cell_type": "code",
   "execution_count": 28,
   "metadata": {},
   "outputs": [
    {
     "name": "stdout",
     "output_type": "stream",
     "text": [
      "[2023-11-02 20:46:08,851: INFO: common: The YAML file: config\\config.yaml is loaded]\n",
      "[2023-11-02 20:46:08,854: INFO: common: The YAML file: params.yaml is loaded]\n",
      "[2023-11-02 20:46:08,858: INFO: common: The YAML file: schema.yaml is loaded]\n",
      "[2023-11-02 20:46:08,859: INFO: common: Directory:artifacts/model_trainer is created]\n"
     ]
    }
   ],
   "source": [
    "try:\n",
    "    config = ConfigurationManager()\n",
    "    model_trainer_config = config.get_model_trainer_config()\n",
    "    model_trainer_obj = model_trainer(config= model_trainer_config)\n",
    "    model_trainer_obj.train()\n",
    "\n",
    "except Exception as e:\n",
    "    raise e"
   ]
  },
  {
   "cell_type": "code",
   "execution_count": null,
   "metadata": {},
   "outputs": [],
   "source": []
  }
 ],
 "metadata": {
  "kernelspec": {
   "display_name": "mlproject_1",
   "language": "python",
   "name": "python3"
  },
  "language_info": {
   "codemirror_mode": {
    "name": "ipython",
    "version": 3
   },
   "file_extension": ".py",
   "mimetype": "text/x-python",
   "name": "python",
   "nbconvert_exporter": "python",
   "pygments_lexer": "ipython3",
   "version": "3.11.5"
  }
 },
 "nbformat": 4,
 "nbformat_minor": 2
}
